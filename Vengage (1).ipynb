{
 "cells": [
  {
   "cell_type": "code",
   "execution_count": 18,
   "id": "ac44e2ba",
   "metadata": {},
   "outputs": [],
   "source": [
    "#Importing required libraries\n",
    "import csv\n",
    "import pandas as pd"
   ]
  },
  {
   "cell_type": "markdown",
   "id": "f8a9b9e5",
   "metadata": {},
   "source": [
    "<h3>Problem 1</h3>"
   ]
  },
  {
   "cell_type": "code",
   "execution_count": 19,
   "id": "ff5852cc",
   "metadata": {},
   "outputs": [
    {
     "name": "stdout",
     "output_type": "stream",
     "text": [
      "             Name                    Email     Phone 1     Phone 2\n",
      "0            John             John@abc.com  9876543210  8765432109\n",
      "1    Priya Sharma      priyasharma@uio.com  8765432101  7654321098\n",
      "2             Doe              Doe@xyz.com  7654321098  6543210987\n",
      "3           Sneha            sneha@def.com  6543210987  5432109876\n",
      "4          Vikram         viky@example.com  5432109876  4321098765\n",
      "5       Neha Jain         nehajain@klm.com  4321098765  3210987654\n",
      "6     Rahul Gupta   rahulgupta@example.com  3210987654  2109876543\n",
      "7           Pooja            pooja@abc.com  2109876543  1098765432\n",
      "8          Vishwa           Vishwa@ijk.com  1098765432  9876543210\n",
      "9          Anjali           anjali@xyz.com  9876543210  8765432109\n",
      "10    Suman Verma            suman@ghi.com  8765432101  7654321098\n",
      "11    Arjit Singh        singh@example.com  7654321098  6543210987\n",
      "12   Shreya Patel  shreyapatel@example.com  6543210987  5432109876\n",
      "13         Deepak           deepak@123.com  5432109876  4321098765\n",
      "14  Kavita Selvan           kavita@plp.com  4321098765  3210987654\n",
      "15    Arjun Mehta   arjunmehta@example.com  3210987654  2109876543\n",
      "16         Ananya           ananya@xyz.com  2109876543  1098765432\n",
      "17          Yadav            yadav@abc.com  1098765432  9876543210\n",
      "18        Monisha          monisha@jkl.com  9876543210  8765432109\n",
      "19          Vivek           vivek@mail.com  8765432101  7654321098\n"
     ]
    }
   ],
   "source": [
    "def read_csv(file_path):\n",
    "    phone_book_records = []\n",
    "    with open(file_path, 'r', newline='', encoding='utf-8') as csvfile:\n",
    "        csv_reader = csv.DictReader(csvfile)\n",
    "        for row in csv_reader:\n",
    "            phone_book_records.append({\n",
    "                'Name': row['Name'],\n",
    "                'Email': row['Email'],\n",
    "                'Phone 1': row['Phone 1'],\n",
    "                'Phone 2': row['Phone 2']\n",
    "            })\n",
    "    df = pd.DataFrame(phone_book_records)\n",
    "    return df\n",
    "\n",
    "# Example usage:\n",
    "file_path = 'Details.csv'\n",
    "phone_book_data_df = read_csv(file_path)\n",
    "print(phone_book_data_df)\n"
   ]
  },
  {
   "cell_type": "markdown",
   "id": "1bdbad18",
   "metadata": {},
   "source": [
    "<h3>Problem 2</h3>"
   ]
  },
  {
   "cell_type": "code",
   "execution_count": 16,
   "id": "40fb8c8e",
   "metadata": {},
   "outputs": [
    {
     "name": "stdout",
     "output_type": "stream",
     "text": [
      "<bound method DataFrame.to_markdown of            Name                   Email     Phone 1     Phone 2\n",
      "0          John            John@abc.com  9876543210  8765432109\n",
      "1  Priya Sharma     priyasharma@uio.com  8765432101  7654321098\n",
      "2           Doe             Doe@xyz.com  7654321098  6543210987\n",
      "3         Sneha           sneha@def.com  6543210987  5432109876\n",
      "4        Vikram        viky@example.com  5432109876  4321098765\n",
      "5     Neha Jain        nehajain@klm.com  4321098765  3210987654\n",
      "6   Rahul Gupta  rahulgupta@example.com  3210987654  2109876543\n",
      "7         Pooja           pooja@abc.com  2109876543  1098765432\n",
      "8        Vishwa          Vishwa@ijk.com  1098765432  9876543210\n",
      "9        Anjali          anjali@xyz.com  9876543210  8765432109>\n"
     ]
    }
   ],
   "source": [
    "## 2.1\n",
    "# Function to implement SELECT operation\n",
    "def select_all_records(df, limit=10):\n",
    "    return df.head(limit)\n",
    "\n",
    "# SQL-like statement for SELECT\n",
    "select_statement = \"SELECT * FROM phone_records;\"\n",
    "\n",
    "# Parse and execute the SQL-like statement\n",
    "if select_statement.startswith(\"SELECT\"):\n",
    "    result = select_all_records(phone_book_data_df)\n",
    "    print(result.to_markdown)\n",
    "else:\n",
    "    print(\"Invalid SQL-like statement.\")\n",
    "\n"
   ]
  },
  {
   "cell_type": "code",
   "execution_count": 14,
   "id": "6e2e26ac",
   "metadata": {},
   "outputs": [
    {
     "name": "stdout",
     "output_type": "stream",
     "text": [
      "  Name        Email     Phone 1     Phone 2\n",
      "2  Doe  Doe@xyz.com  7654321098  6543210987\n"
     ]
    }
   ],
   "source": [
    "## 2.2\n",
    "# Function to implement SELECT operation with filtering\n",
    "def select_records_with_filter(df, condition_column, condition_value):\n",
    "    return df[df[condition_column].str.lower().str.contains(condition_value.lower())]\n",
    "\n",
    "# SQL-like statement for SELECT with filter\n",
    "select_statement = \"SELECT * FROM phone_records WHERE name='doe';\"\n",
    "\n",
    "# Parse and execute the SQL-like statement\n",
    "if select_statement.startswith(\"SELECT\"):\n",
    "    condition_column = 'Name'\n",
    "    condition_value = 'doe'\n",
    "    result = select_records_with_filter(phone_book_data_df, condition_column, condition_value)\n",
    "    print(result)\n",
    "else:\n",
    "    print(\"Invalid SQL-like statement.\")\n"
   ]
  },
  {
   "cell_type": "code",
   "execution_count": 17,
   "id": "647bb523",
   "metadata": {},
   "outputs": [
    {
     "name": "stdout",
     "output_type": "stream",
     "text": [
      "Insert successful.\n",
      "Updated phone book records:\n",
      "             Name                    Email     Phone 1     Phone 2\n",
      "0            John             John@abc.com  9876543210  8765432109\n",
      "1    Priya Sharma      priyasharma@uio.com  8765432101  7654321098\n",
      "2             Doe              Doe@xyz.com  7654321098  6543210987\n",
      "3           Sneha            sneha@def.com  6543210987  5432109876\n",
      "4          Vikram         viky@example.com  5432109876  4321098765\n",
      "5       Neha Jain         nehajain@klm.com  4321098765  3210987654\n",
      "6     Rahul Gupta   rahulgupta@example.com  3210987654  2109876543\n",
      "7           Pooja            pooja@abc.com  2109876543  1098765432\n",
      "8          Vishwa           Vishwa@ijk.com  1098765432  9876543210\n",
      "9          Anjali           anjali@xyz.com  9876543210  8765432109\n",
      "10    Suman Verma            suman@ghi.com  8765432101  7654321098\n",
      "11    Arjit Singh        singh@example.com  7654321098  6543210987\n",
      "12   Shreya Patel  shreyapatel@example.com  6543210987  5432109876\n",
      "13         Deepak           deepak@123.com  5432109876  4321098765\n",
      "14  Kavita Selvan           kavita@plp.com  4321098765  3210987654\n",
      "15    Arjun Mehta   arjunmehta@example.com  3210987654  2109876543\n",
      "16         Ananya           ananya@xyz.com  2109876543  1098765432\n",
      "17          Yadav            yadav@abc.com  1098765432  9876543210\n",
      "18        Monisha          monisha@jkl.com  9876543210  8765432109\n",
      "19          Vivek           vivek@mail.com  8765432101  7654321098\n",
      "20           Test           test@test.xtyz     1234456     1233233\n"
     ]
    },
    {
     "name": "stderr",
     "output_type": "stream",
     "text": [
      "C:\\Users\\HP\\AppData\\Local\\Temp\\ipykernel_19948\\2052055026.py:4: FutureWarning: The frame.append method is deprecated and will be removed from pandas in a future version. Use pandas.concat instead.\n",
      "  df = df.append(new_record, ignore_index=True)\n"
     ]
    }
   ],
   "source": [
    "## 2.3\n",
    "# Function to implement INSERT operation\n",
    "def insert_record(df, values):\n",
    "    new_record = dict(zip(df.columns, values))\n",
    "    df = df.append(new_record, ignore_index=True)\n",
    "    return df\n",
    "\n",
    "# SQL-like statement for INSERT\n",
    "insert_statement = \"INSERT INTO phone_records(name, email, Phone 1, Phone 2) VALUES('Test', 'test@test.xtyz', '1234456', '1233233');\"\n",
    "\n",
    "# Parse and execute the SQL-like statement\n",
    "if insert_statement.startswith(\"INSERT\"):\n",
    "    values = ['Test', 'test@test.xtyz', '1234456', '1233233']\n",
    "    phone_book_df = insert_record(phone_book_data_df, values)\n",
    "    print(\"Insert successful.\")\n",
    "    print(\"Updated phone book records:\")\n",
    "    print(phone_book_df)\n",
    "else:\n",
    "    print(\"Invalid SQL-like statement.\")\n"
   ]
  },
  {
   "cell_type": "code",
   "execution_count": 20,
   "id": "68389507",
   "metadata": {},
   "outputs": [
    {
     "name": "stdout",
     "output_type": "stream",
     "text": [
      "Delete successful.\n",
      "Updated phone book records:\n",
      "             Name                    Email     Phone 1     Phone 2\n",
      "1    Priya Sharma      priyasharma@uio.com  8765432101  7654321098\n",
      "2             Doe              Doe@xyz.com  7654321098  6543210987\n",
      "3           Sneha            sneha@def.com  6543210987  5432109876\n",
      "4          Vikram         viky@example.com  5432109876  4321098765\n",
      "5       Neha Jain         nehajain@klm.com  4321098765  3210987654\n",
      "6     Rahul Gupta   rahulgupta@example.com  3210987654  2109876543\n",
      "7           Pooja            pooja@abc.com  2109876543  1098765432\n",
      "8          Vishwa           Vishwa@ijk.com  1098765432  9876543210\n",
      "9          Anjali           anjali@xyz.com  9876543210  8765432109\n",
      "10    Suman Verma            suman@ghi.com  8765432101  7654321098\n",
      "11    Arjit Singh        singh@example.com  7654321098  6543210987\n",
      "12   Shreya Patel  shreyapatel@example.com  6543210987  5432109876\n",
      "13         Deepak           deepak@123.com  5432109876  4321098765\n",
      "14  Kavita Selvan           kavita@plp.com  4321098765  3210987654\n",
      "15    Arjun Mehta   arjunmehta@example.com  3210987654  2109876543\n",
      "16         Ananya           ananya@xyz.com  2109876543  1098765432\n",
      "17          Yadav            yadav@abc.com  1098765432  9876543210\n",
      "18        Monisha          monisha@jkl.com  9876543210  8765432109\n",
      "19          Vivek           vivek@mail.com  8765432101  7654321098\n",
      "20           Test           test@test.xtyz     1234456     1233233\n"
     ]
    }
   ],
   "source": [
    "## 2.4\n",
    "# Function to implement DELETE operation\n",
    "def delete_records_with_condition(df, condition_column, condition_value):\n",
    "    df = df[~df[condition_column].str.lower().str.contains(condition_value.lower())]\n",
    "    return df\n",
    "\n",
    "# SQL-like statement for DELETE\n",
    "delete_statement = \"DELETE FROM phone_records WHERE name='John';\"\n",
    "\n",
    "# Parse and execute the SQL-like statement\n",
    "if delete_statement.startswith(\"DELETE\"):\n",
    "    condition_column = 'Name'\n",
    "    condition_value = 'John'\n",
    "    phone_book_df = delete_records_with_condition(phone_book_df, condition_column, condition_value)\n",
    "    print(\"Delete successful.\")\n",
    "    print(\"Updated phone book records:\")\n",
    "    print(phone_book_df)\n",
    "else:\n",
    "    print(\"Invalid SQL-like statement.\")\n"
   ]
  },
  {
   "cell_type": "code",
   "execution_count": null,
   "id": "efa1450b",
   "metadata": {},
   "outputs": [],
   "source": []
  }
 ],
 "metadata": {
  "kernelspec": {
   "display_name": "Python 3 (ipykernel)",
   "language": "python",
   "name": "python3"
  },
  "language_info": {
   "codemirror_mode": {
    "name": "ipython",
    "version": 3
   },
   "file_extension": ".py",
   "mimetype": "text/x-python",
   "name": "python",
   "nbconvert_exporter": "python",
   "pygments_lexer": "ipython3",
   "version": "3.11.3"
  }
 },
 "nbformat": 4,
 "nbformat_minor": 5
}
